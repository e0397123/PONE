{
 "cells": [
  {
   "cell_type": "code",
   "execution_count": 1,
   "metadata": {},
   "outputs": [],
   "source": [
    "import numpy as np\n",
    "import pickle\n",
    "import random\n",
    "import ipdb\n",
    "import torch\n",
    "import os"
   ]
  },
  {
   "cell_type": "code",
   "execution_count": 2,
   "metadata": {},
   "outputs": [],
   "source": [
    "def read_dataset():\n",
    "    with open('dataset.pkl', 'rb') as f:\n",
    "        npdata = pickle.load(f)\n",
    "    with open('xiaohuangji.txt') as f:\n",
    "        data = f.read().split('E\\nM ')[1:]\n",
    "        d = []\n",
    "        for i in data:\n",
    "            try:\n",
    "                d.append(i.strip().split('\\nM ')[1])\n",
    "            except:\n",
    "                d.append(i[2:])\n",
    "        textdata = d\n",
    "    assert len(textdata) == len(npdata)\n",
    "    return textdata, npdata"
   ]
  },
  {
   "cell_type": "code",
   "execution_count": 3,
   "metadata": {},
   "outputs": [
    {
     "data": {
      "text/plain": [
       "(454131, (454131, 768))"
      ]
     },
     "execution_count": 3,
     "metadata": {},
     "output_type": "execute_result"
    }
   ],
   "source": [
    "text, npdata = read_dataset()\n",
    "len(text), npdata.shape"
   ]
  },
  {
   "cell_type": "code",
   "execution_count": 4,
   "metadata": {},
   "outputs": [],
   "source": [
    "def cosine_similarity(x, y):\n",
    "    # x: [768]; y: [256, 768]\n",
    "    x = np.dot(x, y.T) / np.linalg.norm(x) / np.linalg.norm(y, axis=1)\n",
    "    return x"
   ]
  },
  {
   "cell_type": "code",
   "execution_count": 5,
   "metadata": {},
   "outputs": [],
   "source": [
    "def average_similarity(x):\n",
    "    return np.var(x)"
   ]
  },
  {
   "cell_type": "code",
   "execution_count": 6,
   "metadata": {},
   "outputs": [],
   "source": [
    "def transform(x, tmp=0.05):\n",
    "    # softmax with temperature\n",
    "    y = x / tmp\n",
    "    # ipdb.set_trace()\n",
    "    y = torch.nn.functional.softmax(torch.tensor(y)).numpy()\n",
    "    return y"
   ]
  },
  {
   "cell_type": "markdown",
   "metadata": {},
   "source": [
    "## Show the negative transform"
   ]
  },
  {
   "cell_type": "code",
   "execution_count": 7,
   "metadata": {},
   "outputs": [],
   "source": [
    "pool_size= 256\n",
    "index = 73508\n",
    "text[index]\n",
    "negative_samples = random.sample(range(len(text)), pool_size)\n",
    "\n",
    "text_negaitve_samples = [text[i] for i in negative_samples]\n",
    "npdata_negative_samples = npdata[negative_samples]"
   ]
  },
  {
   "cell_type": "code",
   "execution_count": 8,
   "metadata": {},
   "outputs": [
    {
     "data": {
      "text/plain": [
       "('average similarity:', 0.0026717621)"
      ]
     },
     "execution_count": 8,
     "metadata": {},
     "output_type": "execute_result"
    }
   ],
   "source": [
    "similarity = cosine_similarity(npdata[index], npdata_negative_samples)\n",
    "'average similarity:', average_similarity(similarity)"
   ]
  },
  {
   "cell_type": "code",
   "execution_count": 22,
   "metadata": {},
   "outputs": [
    {
     "name": "stderr",
     "output_type": "stream",
     "text": [
      "/data/lantian/miniconda3/envs/torch/lib/python3.6/site-packages/ipykernel_launcher.py:5: UserWarning: Implicit dimension choice for softmax has been deprecated. Change the call to include dim=X as an argument.\n",
      "  \"\"\"\n"
     ]
    },
    {
     "data": {
      "text/plain": [
       "('average similarity:', 0.0009633536)"
      ]
     },
     "execution_count": 22,
     "metadata": {},
     "output_type": "execute_result"
    }
   ],
   "source": [
    "tmp=0.01\n",
    "transformer_similarity = transform(similarity, tmp=tmp)\n",
    "'average similarity:', average_similarity(transformer_similarity)"
   ]
  },
  {
   "cell_type": "code",
   "execution_count": 23,
   "metadata": {},
   "outputs": [
    {
     "data": {
      "text/plain": [
       "(2.3867374e-18, 0.0039062505, 0.48216233)"
      ]
     },
     "execution_count": 23,
     "metadata": {},
     "output_type": "execute_result"
    }
   ],
   "source": [
    "transformer_similarity.min(), transformer_similarity.mean(), transformer_similarity.max()"
   ]
  },
  {
   "cell_type": "code",
   "execution_count": 24,
   "metadata": {},
   "outputs": [],
   "source": [
    "%matplotlib inline\n",
    "import pandas as pd\n",
    "import numpy as np\n",
    "import seaborn as sns\n",
    "import matplotlib.pyplot as plt\n",
    "\n",
    "sns.set_style(\"whitegrid\")"
   ]
  },
  {
   "cell_type": "code",
   "execution_count": 25,
   "metadata": {},
   "outputs": [
    {
     "data": {
      "image/png": "[encoded data removed]",
      "text/plain": [
       "<Figure size 1440x288 with 1 Axes>"
      ]
     },
     "metadata": {},
     "output_type": "display_data"
    }
   ],
   "source": [
    "x = list(range(len(transformer_similarity)))\n",
    "y = np.sort(transformer_similarity)[::-1]\n",
    "fig = plt.figure(figsize=(20,4))\n",
    "plt.bar(x, y)\n",
    "plt.xlim(0, len(x))\n",
    "font = {'family': 'serif',\n",
    "        'color':  'darkred',\n",
    "        'weight': 'normal',\n",
    "        'size': 14}\n",
    "plt.xticks(fontsize=10)\n",
    "plt.yticks(fontsize=10)\n",
    "plt.ylabel('Sample Possibility', fontdict=font)\n",
    "# plt.xlabel('Samples', fontdict=font)\n",
    "# plt.title('Sample Possibility of 256 random samples', fontdict=font)\n",
    "plt.savefig(f'weight{tmp}.eps', dpi=600, format='eps')"
   ]
  },
  {
   "cell_type": "code",
   "execution_count": null,
   "metadata": {},
   "outputs": [],
   "source": []
  }
 ],
 "metadata": {
  "kernelspec": {
   "display_name": "Python 3",
   "language": "python",
   "name": "python3"
  },
  "language_info": {
   "codemirror_mode": {
    "name": "ipython",
    "version": 3
   },
   "file_extension": ".py",
   "mimetype": "text/x-python",
   "name": "python",
   "nbconvert_exporter": "python",
   "pygments_lexer": "ipython3",
   "version": "3.6.11"
  }
 },
 "nbformat": 4,
 "nbformat_minor": 4
}
